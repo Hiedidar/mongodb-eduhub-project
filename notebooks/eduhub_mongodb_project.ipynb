{
 "cells": [
  {
   "cell_type": "code",
   "execution_count": 1,
   "id": "54bd98cd-8963-4eb2-9c0b-93e513e2ecd0",
   "metadata": {},
   "outputs": [],
   "source": [
    "from pymongo import MongoClient\n",
    "from datetime import datetime\n",
    "import random\n",
    "import string"
   ]
  },
  {
   "cell_type": "code",
   "execution_count": 2,
   "id": "af4381aa-bfd4-48db-934c-639bf5c11077",
   "metadata": {},
   "outputs": [
    {
     "name": "stdout",
     "output_type": "stream",
     "text": [
      "EduHub_Db_Project reset and ready.\n"
     ]
    }
   ],
   "source": [
    "# Connect to MongoDB\n",
    "client = MongoClient('mongodb://localhost:27017/')\n",
    "\n",
    "# Drop existing database to reset\n",
    "client.drop_database(\"EduHub_Db_Project\")\n",
    "\n",
    "# Re-create the database\n",
    "db = client[\"EduHub_Db_Project\"]\n",
    "print(\"EduHub_Db_Project reset and ready.\")"
   ]
  },
  {
   "cell_type": "code",
   "execution_count": 3,
   "id": "8733caa2-9d4a-45fc-a63b-8a44c663f694",
   "metadata": {},
   "outputs": [
    {
     "ename": "SyntaxError",
     "evalue": "incomplete input (2730084890.py, line 30)",
     "output_type": "error",
     "traceback": [
      "  \u001b[36mCell\u001b[39m\u001b[36m \u001b[39m\u001b[32mIn[3]\u001b[39m\u001b[32m, line 30\u001b[39m\n\u001b[31m    \u001b[39m\u001b[31mprint(f\"Inserted {len(result.inserted_ids)} users into 'users' collection.\"\u001b[39m\n                                                                               ^\n\u001b[31mSyntaxError\u001b[39m\u001b[31m:\u001b[39m incomplete input\n"
     ]
    }
   ],
   "source": [
    "# Generate real-looking random names\n",
    "first_names = [\"Grace\", \"David\", \"Ifeanyi\", \"Chinaza\", \"Adebayo\", \"Fatima\", \"Emeka\", \"Zainab\", \"Samuel\", \"Ngozi\"]\n",
    "last_names = [\"Okoro\", \"Afolayan\", \"Ugochukwu\", \"Nwosu\", \"Adewale\", \"Mohammed\", \"Eze\", \"Aliyu\", \"Adegoke\", \"Ezeh\"]\n",
    "roles = [\"student\", \"instructor\"]\n",
    "\n",
    "# Generate users\n",
    "users = []\n",
    "for i in range(30):\n",
    "    first = random.choice(first_names)\n",
    "    last = random.choice(last_names)\n",
    "    role = random.choice(roles)\n",
    "    user = {\n",
    "        \"userId\": f\"user_{100+i}\",\n",
    "        \"email\": f\"{first.lower()}.{last.lower()}@example.com\",\n",
    "        \"firstName\": first,\n",
    "        \"lastName\": last,\n",
    "        \"role\": role,\n",
    "        \"dateJoined\": datetime.utcnow(),\n",
    "        \"isActive\": True,\n",
    "        \"profile\": {\n",
    "            \"bio\": f\"I am a {role} at EduHub.\",\n",
    "            \"avatar\": \"\",\n",
    "            \"skills\": random.sample([\"Python\", \"Excel\", \"Java\", \"MongoDB\", \"HTML\", \"CSS\", \"JavaScript\"], k=3)\n",
    "        }\n",
    "    }\n",
    "    users.append(user)\n",
    "\n",
    "# Insert users\n",
    "result = db.users.insert_many(users)\n",
    "print(f\"Inserted {len(result.inserted_ids)} users into 'users' collection.\""
   ]
  },
  {
   "cell_type": "code",
   "execution_count": 4,
   "id": "41b0df78-be5c-41a3-9fac-01dd9909a6cc",
   "metadata": {},
   "outputs": [
    {
     "ename": "NameError",
     "evalue": "name 'first_names' is not defined",
     "output_type": "error",
     "traceback": [
      "\u001b[31m---------------------------------------------------------------------------\u001b[39m",
      "\u001b[31mNameError\u001b[39m                                 Traceback (most recent call last)",
      "\u001b[36mCell\u001b[39m\u001b[36m \u001b[39m\u001b[32mIn[4]\u001b[39m\u001b[32m, line 4\u001b[39m\n\u001b[32m      2\u001b[39m users = []\n\u001b[32m      3\u001b[39m \u001b[38;5;28;01mfor\u001b[39;00m i \u001b[38;5;129;01min\u001b[39;00m \u001b[38;5;28mrange\u001b[39m(\u001b[32m30\u001b[39m):\n\u001b[32m----> \u001b[39m\u001b[32m4\u001b[39m     first = random.choice(\u001b[43mfirst_names\u001b[49m)\n\u001b[32m      5\u001b[39m     last = random.choice(last_names)\n\u001b[32m      6\u001b[39m     role = random.choice(roles)\n",
      "\u001b[31mNameError\u001b[39m: name 'first_names' is not defined"
     ]
    }
   ],
   "source": [
    "# Generate users\n",
    "users = []\n",
    "for i in range(30):\n",
    "    first = random.choice(first_names)\n",
    "    last = random.choice(last_names)\n",
    "    role = random.choice(roles)\n",
    "    user = {\n",
    "        \"userId\": f\"user_{100+i}\",\n",
    "        \"email\": f\"{first.lower()}.{last.lower()}@example.com\",\n",
    "        \"firstName\": first,\n",
    "        \"lastName\": last,\n",
    "        \"role\": role,\n",
    "        \"dateJoined\": datetime.utcnow(),\n",
    "        \"isActive\": True,\n",
    "        \"profile\": {\n",
    "            \"bio\": f\"I am a {role} at EduHub.\",\n",
    "            \"avatar\": \"\",\n",
    "            \"skills\": random.sample([\"Python\", \"Excel\", \"Java\", \"MongoDB\", \"HTML\", \"CSS\", \"JavaScript\"], k=3)\n",
    "        }\n",
    "    }\n",
    "    users.append(user)\n",
    "\n",
    "# Insert users\n",
    "result = db.users.insert_many(users)\n",
    "print(f\"Inserted {len(result.inserted_ids)} users into 'users' collection.\")"
   ]
  },
  {
   "cell_type": "code",
   "execution_count": 5,
   "id": "d6676eab-5985-4c69-9145-3226e93fd68f",
   "metadata": {},
   "outputs": [],
   "source": [
    "# Generate real-looking random names\n",
    "first_names = [\"Grace\", \"David\", \"Ifeanyi\", \"Chinaza\", \"Adebayo\", \"Fatima\", \"Emeka\", \"Zainab\", \"Samuel\", \"Ngozi\"]\n",
    "last_names = [\"Okoro\", \"Afolayan\", \"Ugochukwu\", \"Nwosu\", \"Adewale\", \"Mohammed\", \"Eze\", \"Aliyu\", \"Adegoke\", \"Ezeh\"]\n",
    "roles = [\"student\", \"instructor\"]"
   ]
  },
  {
   "cell_type": "code",
   "execution_count": 6,
   "id": "a0e52bc0-1979-436b-8a78-b59702c49c12",
   "metadata": {},
   "outputs": [
    {
     "name": "stdout",
     "output_type": "stream",
     "text": [
      "Inserted 30 users into 'users' collection.\n"
     ]
    }
   ],
   "source": [
    "# Generate users\n",
    "users = []\n",
    "for i in range(30):\n",
    "    first = random.choice(first_names)\n",
    "    last = random.choice(last_names)\n",
    "    role = random.choice(roles)\n",
    "    user = {\n",
    "        \"userId\": f\"user_{100+i}\",\n",
    "        \"email\": f\"{first.lower()}.{last.lower()}@example.com\",\n",
    "        \"firstName\": first,\n",
    "        \"lastName\": last,\n",
    "        \"role\": role,\n",
    "        \"dateJoined\": datetime.utcnow(),\n",
    "        \"isActive\": True,\n",
    "        \"profile\": {\n",
    "            \"bio\": f\"I am a {role} at EduHub.\",\n",
    "            \"avatar\": \"\",\n",
    "            \"skills\": random.sample([\"Python\", \"Excel\", \"Java\", \"MongoDB\", \"HTML\", \"CSS\", \"JavaScript\"], k=3)\n",
    "        }\n",
    "    }\n",
    "    users.append(user)\n",
    "\n",
    "# Insert users\n",
    "result = db.users.insert_many(users)\n",
    "print(f\"Inserted {len(result.inserted_ids)} users into 'users' collection.\")"
   ]
  },
  {
   "cell_type": "code",
   "execution_count": 7,
   "id": "253f0d40-72c6-4c5c-8c35-663c35009e9b",
   "metadata": {},
   "outputs": [],
   "source": [
    "# Courses\n",
    "\n",
    "# Get instructors from the users collection\n",
    "instructors = [doc[\"userId\"] for doc in db.users.find({\"role\": \"instructor\"}, {\"userId\": 1, \"_id\": 0})]\n",
    "\n",
    "# Sample course categories and levels\n",
    "categories = [\"Programming\", \"Design\", \"Business\", \"Data Science\", \"Marketing\"]\n",
    "levels = [\"beginner\", \"intermediate\", \"advanced\"]"
   ]
  },
  {
   "cell_type": "code",
   "execution_count": 8,
   "id": "035a239c-646f-4c7c-85c8-7fe792734c9e",
   "metadata": {},
   "outputs": [
    {
     "name": "stdout",
     "output_type": "stream",
     "text": [
      "Inserted 12 courses into 'courses' collection.\n"
     ]
    }
   ],
   "source": [
    "# Generate 12 courses\n",
    "courses = []\n",
    "for i in range(12):\n",
    "    instructor_id = random.choice(instructors)\n",
    "    category = random.choice(categories)\n",
    "    level = random.choice(levels)\n",
    "    course = {\n",
    "        \"courseId\": f\"course_{200+i}\",\n",
    "        \"title\": f\"Course {i+1} in {category}\",\n",
    "        \"description\": f\"A comprehensive {level} course in {category}.\",\n",
    "        \"instructorId\": instructor_id,\n",
    "        \"category\": category,\n",
    "        \"level\": level,\n",
    "        \"duration\": random.randint(5, 40),\n",
    "        \"price\": round(random.uniform(20, 100), 2),\n",
    "        \"tags\": random.sample([\"python\", \"ui/ux\", \"strategy\", \"analytics\", \"ads\", \"machine learning\"], k=3),\n",
    "        \"createdAt\": datetime.utcnow(),\n",
    "        \"updatedAt\": datetime.utcnow(),\n",
    "        \"isPublished\": random.choice([True, False])\n",
    "    }\n",
    "    courses.append(course)\n",
    "\n",
    "# Insert courses\n",
    "result = db.courses.insert_many(courses)\n",
    "print(f\"Inserted {len(result.inserted_ids)} courses into 'courses' collection.\")"
   ]
  },
  {
   "cell_type": "code",
   "execution_count": 9,
   "id": "9af1dca2-545c-4542-bab3-b24a89557cb0",
   "metadata": {},
   "outputs": [
    {
     "name": "stdout",
     "output_type": "stream",
     "text": [
      "Inserted 20 enrollments into 'enrollments' collection.\n"
     ]
    }
   ],
   "source": [
    "# Enrollments\n",
    "\n",
    "# Get all students\n",
    "students = [doc[\"userId\"] for doc in db.users.find({\"role\": \"student\"}, {\"userId\": 1, \"_id\": 0})]\n",
    "course_ids = [doc[\"courseId\"] for doc in db.courses.find({}, {\"courseId\": 1, \"_id\": 0})]\n",
    "\n",
    "# Generate 20 enrollments\n",
    "enrollments = []\n",
    "for i in range(20):\n",
    "    enrollment = {\n",
    "        \"enrollmentId\": f\"enroll_{300+i}\",\n",
    "        \"studentId\": random.choice(students),\n",
    "        \"courseId\": random.choice(course_ids),\n",
    "        \"enrolledAt\": datetime.utcnow(),\n",
    "        \"progress\": round(random.uniform(0, 100), 2),\n",
    "        \"completed\": random.choice([True, False])\n",
    "    }\n",
    "    enrollments.append(enrollment)\n",
    "\n",
    "# Insert enrollments\n",
    "result = db.enrollments.insert_many(enrollments)\n",
    "print(f\"Inserted {len(result.inserted_ids)} enrollments into 'enrollments' collection.\")"
   ]
  },
  {
   "cell_type": "code",
   "execution_count": 10,
   "id": "fadcf6e8-ad6a-4a6b-bca7-faf9dffc0eb7",
   "metadata": {},
   "outputs": [
    {
     "name": "stdout",
     "output_type": "stream",
     "text": [
      "Inserted 30 lessons into 'lessons' collection.\n"
     ]
    }
   ],
   "source": [
    "# Lessons\n",
    "\n",
    "# Generate 30 lessons\n",
    "lessons = []\n",
    "for i in range(30):\n",
    "    course_id = random.choice(course_ids)\n",
    "    lesson = {\n",
    "        \"lessonId\": f\"lesson_{400+i}\",\n",
    "        \"courseId\": course_id,\n",
    "        \"title\": f\"Lesson {i+1} for {course_id}\",\n",
    "        \"content\": f\"Detailed content for lesson {i+1}...\",\n",
    "        \"duration\": random.randint(10, 60),  # in minutes\n",
    "        \"createdAt\": datetime.utcnow()\n",
    "    }\n",
    "    lessons.append(lesson)\n",
    "\n",
    "# Insert lessons\n",
    "result = db.lessons.insert_many(lessons)\n",
    "print(f\"Inserted {len(result.inserted_ids)} lessons into 'lessons' collection.\")"
   ]
  },
  {
   "cell_type": "code",
   "execution_count": 13,
   "id": "800667e9-0881-470a-9328-6955429f075a",
   "metadata": {},
   "outputs": [
    {
     "name": "stdout",
     "output_type": "stream",
     "text": [
      "Inserted 13 assignments into 'assignments' collection.\n"
     ]
    }
   ],
   "source": [
    "# Assignments\n",
    "\n",
    "# Generate 13 assignments\n",
    "assignments = []\n",
    "for i in range(13):\n",
    "    course_id = random.choice(course_ids)\n",
    "    assignment = {\n",
    "        \"assignmentId\": f\"assign_{500+i}\",\n",
    "        \"courseId\": course_id,\n",
    "        \"title\": f\"Assignment {i+1} for {course_id}\",\n",
    "        \"description\": f\"Complete the exercises for Assignment {i+1}.\",\n",
    "        \"dueDate\": datetime.utcnow() + timedelta(days=random.randint(3, 14)),\n",
    "        \"createdAt\": datetime.utcnow()\n",
    "    }\n",
    "    assignments.append(assignment)\n",
    "\n",
    "# Insert assignments\n",
    "result = db.assignments.insert_many(assignments)\n",
    "print(f\"Inserted {len(result.inserted_ids)} assignments into 'assignments' collection.\")"
   ]
  },
  {
   "cell_type": "code",
   "execution_count": 12,
   "id": "16466796-0dc9-4b20-aef1-7460fd505d34",
   "metadata": {},
   "outputs": [],
   "source": [
    "from datetime import datetime, timedelta"
   ]
  },
  {
   "cell_type": "code",
   "execution_count": 14,
   "id": "25219fae-9529-4cbf-bc10-84b8953e086b",
   "metadata": {},
   "outputs": [
    {
     "name": "stdout",
     "output_type": "stream",
     "text": [
      "Inserted 15 submissions into 'submissions' collection.\n"
     ]
    }
   ],
   "source": [
    "# Assignment Submissions\n",
    "\n",
    "# Get assignment and student IDs\n",
    "assignment_ids = [doc[\"assignmentId\"] for doc in db.assignments.find({}, {\"assignmentId\": 1, \"_id\": 0})]\n",
    "\n",
    "# Generate 15 assignment submissions\n",
    "submissions = []\n",
    "for i in range(15):\n",
    "    submission = {\n",
    "        \"submissionId\": f\"sub_{600+i}\",\n",
    "        \"assignmentId\": random.choice(assignment_ids),\n",
    "        \"studentId\": random.choice(students),\n",
    "        \"submittedAt\": datetime.utcnow(),\n",
    "        \"content\": f\"This is submission content #{i+1}.\",\n",
    "        \"grade\": random.randint(60, 100),\n",
    "        \"feedback\": f\"Feedback for submission #{i+1}.\"\n",
    "    }\n",
    "    submissions.append(submission)\n",
    "\n",
    "# Insert submissions\n",
    "result = db.submissions.insert_many(submissions)\n",
    "print(f\"Inserted {len(result.inserted_ids)} submissions into 'submissions' collection.\")"
   ]
  },
  {
   "cell_type": "code",
   "execution_count": 15,
   "id": "ed6bb526-128d-4063-a37a-667003ea7a55",
   "metadata": {},
   "outputs": [
    {
     "data": {
      "text/plain": [
       "InsertOneResult(ObjectId('684d62e430a6e8a80723be02'), acknowledged=True)"
      ]
     },
     "execution_count": 15,
     "metadata": {},
     "output_type": "execute_result"
    }
   ],
   "source": [
    "#Task 3.1 – Create Operations\n",
    "\n",
    "# Add a new student user\n",
    "new_student = {\n",
    "    \"userId\": \"user_999\",\n",
    "    \"email\": \"new.student@example.com\",\n",
    "    \"firstName\": \"New\",\n",
    "    \"lastName\": \"Student\",\n",
    "    \"role\": \"student\",\n",
    "    \"dateJoined\": datetime.utcnow(),\n",
    "    \"isActive\": True,\n",
    "    \"profile\": {\n",
    "        \"bio\": \"I am excited to learn.\",\n",
    "        \"avatar\": \"\",\n",
    "        \"skills\": [\"Python\", \"MongoDB\"]\n",
    "    }\n",
    "}\n",
    "db.users.insert_one(new_student)"
   ]
  },
  {
   "cell_type": "code",
   "execution_count": 16,
   "id": "06f43381-29f9-4591-a503-32cc32c08f52",
   "metadata": {},
   "outputs": [
    {
     "data": {
      "text/plain": [
       "InsertOneResult(ObjectId('684d62f230a6e8a80723be03'), acknowledged=True)"
      ]
     },
     "execution_count": 16,
     "metadata": {},
     "output_type": "execute_result"
    }
   ],
   "source": [
    "# Create a new course\n",
    "instructor = db.users.find_one({\"role\": \"instructor\"})\n",
    "new_course = {\n",
    "    \"courseId\": \"course_999\",\n",
    "    \"title\": \"Advanced MongoDB\",\n",
    "    \"description\": \"Master advanced MongoDB techniques\",\n",
    "    \"instructorId\": instructor[\"userId\"],\n",
    "    \"category\": \"Data Science\",\n",
    "    \"level\": \"advanced\",\n",
    "    \"duration\": 30,\n",
    "    \"price\": 120.00,\n",
    "    \"tags\": [\"mongo\", \"database\"],\n",
    "    \"createdAt\": datetime.utcnow(),\n",
    "    \"updatedAt\": datetime.utcnow(),\n",
    "    \"isPublished\": True\n",
    "}\n",
    "db.courses.insert_one(new_course)"
   ]
  },
  {
   "cell_type": "code",
   "execution_count": 17,
   "id": "501d97b5-a55b-4c24-aba6-97ec8c9dba76",
   "metadata": {},
   "outputs": [
    {
     "data": {
      "text/plain": [
       "InsertOneResult(ObjectId('684d62fc30a6e8a80723be04'), acknowledged=True)"
      ]
     },
     "execution_count": 17,
     "metadata": {},
     "output_type": "execute_result"
    }
   ],
   "source": [
    "# Enroll a student in a course\n",
    "new_enrollment = {\n",
    "    \"enrollmentId\": \"enroll_999\",\n",
    "    \"studentId\": new_student[\"userId\"],\n",
    "    \"courseId\": new_course[\"courseId\"],\n",
    "    \"enrolledAt\": datetime.utcnow(),\n",
    "    \"progress\": 0.0,\n",
    "    \"completed\": False\n",
    "}\n",
    "db.enrollments.insert_one(new_enrollment)"
   ]
  },
  {
   "cell_type": "code",
   "execution_count": 18,
   "id": "ff579536-9ab4-48f4-8d73-b66ef0714c2b",
   "metadata": {},
   "outputs": [
    {
     "data": {
      "text/plain": [
       "InsertOneResult(ObjectId('684d630330a6e8a80723be05'), acknowledged=True)"
      ]
     },
     "execution_count": 18,
     "metadata": {},
     "output_type": "execute_result"
    }
   ],
   "source": [
    "# Add a new lesson to the new course\n",
    "new_lesson = {\n",
    "    \"lessonId\": \"lesson_999\",\n",
    "    \"courseId\": new_course[\"courseId\"],\n",
    "    \"title\": \"Lesson 1: Indexes\",\n",
    "    \"content\": \"Introduction to Indexes in MongoDB\",\n",
    "    \"duration\": 45,\n",
    "    \"createdAt\": datetime.utcnow()\n",
    "}\n",
    "db.lessons.insert_one(new_lesson)"
   ]
  },
  {
   "cell_type": "code",
   "execution_count": 19,
   "id": "dc7ce674-0fe4-4242-a5db-3b0d048a835d",
   "metadata": {},
   "outputs": [
    {
     "name": "stdout",
     "output_type": "stream",
     "text": [
      "Ifeanyi Eze – ifeanyi.eze@example.com\n",
      "Ifeanyi Eze – ifeanyi.eze@example.com\n",
      "Emeka Ezeh – emeka.ezeh@example.com\n",
      "Adebayo Adegoke – adebayo.adegoke@example.com\n",
      "David Mohammed – david.mohammed@example.com\n",
      "David Ezeh – david.ezeh@example.com\n",
      "Adebayo Nwosu – adebayo.nwosu@example.com\n",
      "Ifeanyi Okoro – ifeanyi.okoro@example.com\n",
      "Emeka Adegoke – emeka.adegoke@example.com\n",
      "Ngozi Eze – ngozi.eze@example.com\n",
      "David Okoro – david.okoro@example.com\n",
      "New Student – new.student@example.com\n"
     ]
    }
   ],
   "source": [
    "#Task 3.2 – Read Operations\n",
    "\n",
    "# Find all active students\n",
    "active_students = list(db.users.find({\"role\": \"student\", \"isActive\": True}))\n",
    "for student in active_students:\n",
    "    print(student[\"firstName\"], student[\"lastName\"], \"–\", student[\"email\"])"
   ]
  },
  {
   "cell_type": "code",
   "execution_count": 20,
   "id": "5f10bc66-7492-4188-bc58-9d6c61f7e13e",
   "metadata": {},
   "outputs": [
    {
     "name": "stdout",
     "output_type": "stream",
     "text": [
      "[{'_id': ObjectId('684d62f230a6e8a80723be03'), 'courseId': 'course_999', 'title': 'Advanced MongoDB', 'description': 'Master advanced MongoDB techniques', 'instructorId': 'user_102', 'category': 'Data Science', 'level': 'advanced', 'duration': 30, 'price': 120.0, 'tags': ['mongo', 'database'], 'createdAt': datetime.datetime(2025, 6, 14, 11, 54, 26, 494000), 'updatedAt': datetime.datetime(2025, 6, 14, 11, 54, 26, 494000), 'isPublished': True, 'instructorInfo': [{'_id': ObjectId('684d5f7e30a6e8a80723bd8c'), 'userId': 'user_102', 'email': 'fatima.adewale@example.com', 'firstName': 'Fatima', 'lastName': 'Adewale', 'role': 'instructor', 'dateJoined': datetime.datetime(2025, 6, 14, 11, 39, 42, 905000), 'isActive': True, 'profile': {'bio': 'I am a instructor at EduHub.', 'avatar': '', 'skills': ['JavaScript', 'MongoDB', 'Excel']}}]}]\n"
     ]
    }
   ],
   "source": [
    "# Retrieve course details with instructor information\n",
    "pipeline = [\n",
    "    {\"$match\": {\"courseId\": \"course_999\"}},\n",
    "    {\"$lookup\": {\n",
    "        \"from\": \"users\",\n",
    "        \"localField\": \"instructorId\",\n",
    "        \"foreignField\": \"userId\",\n",
    "        \"as\": \"instructorInfo\"\n",
    "    }}\n",
    "]\n",
    "course_details = list(db.courses.aggregate(pipeline))\n",
    "print(course_details)"
   ]
  },
  {
   "cell_type": "code",
   "execution_count": 21,
   "id": "a3c4d42f-4e2a-4fd8-8777-03af2227b3d4",
   "metadata": {},
   "outputs": [
    {
     "name": "stdout",
     "output_type": "stream",
     "text": [
      "Course 1 in Data Science\n",
      "Advanced MongoDB\n"
     ]
    }
   ],
   "source": [
    "# Get all courses in a specific category\n",
    "data_science_courses = list(db.courses.find({\"category\": \"Data Science\"}))\n",
    "for course in data_science_courses:\n",
    "    print(course[\"title\"])"
   ]
  },
  {
   "cell_type": "code",
   "execution_count": 22,
   "id": "ad561132-625b-4cd4-b153-28283cb9a9d6",
   "metadata": {},
   "outputs": [
    {
     "name": "stdout",
     "output_type": "stream",
     "text": [
      "user_999\n"
     ]
    }
   ],
   "source": [
    "# Find students enrolled in a particular course\n",
    "enrolled_students = db.enrollments.find({\"courseId\": \"course_999\"})\n",
    "for enrollment in enrolled_students:\n",
    "    print(enrollment[\"studentId\"])"
   ]
  },
  {
   "cell_type": "code",
   "execution_count": 23,
   "id": "ed482dc0-3da0-423b-894f-1d7e6b48530e",
   "metadata": {},
   "outputs": [
    {
     "name": "stdout",
     "output_type": "stream",
     "text": [
      "Advanced MongoDB\n"
     ]
    }
   ],
   "source": [
    "# Search courses by title (case-insensitive, partial match)\n",
    "search_keyword = \"mongo\"\n",
    "mongo_courses = db.courses.find({\"title\": {\"$regex\": search_keyword, \"$options\": \"i\"}})\n",
    "for course in mongo_courses:\n",
    "    print(course[\"title\"])"
   ]
  },
  {
   "cell_type": "code",
   "execution_count": 24,
   "id": "4eb6dfb2-1d52-4ef7-9d8b-12d6153466a3",
   "metadata": {},
   "outputs": [
    {
     "data": {
      "text/plain": [
       "UpdateResult({'n': 1, 'nModified': 1, 'ok': 1.0, 'updatedExisting': True}, acknowledged=True)"
      ]
     },
     "execution_count": 24,
     "metadata": {},
     "output_type": "execute_result"
    }
   ],
   "source": [
    "#Task 3.3 – Update Operations\n",
    "\n",
    "# Update a user's profile information\n",
    "db.users.update_one(\n",
    "    {\"userId\": \"user_999\"},\n",
    "    {\"$set\": {\"profile.bio\": \"Updated student profile\", \"profile.skills\": [\"Python\", \"Data Analysis\"]}}\n",
    ")"
   ]
  },
  {
   "cell_type": "code",
   "execution_count": 25,
   "id": "a8726049-0b5f-48fb-ba42-b98f22e2fd4b",
   "metadata": {},
   "outputs": [
    {
     "data": {
      "text/plain": [
       "UpdateResult({'n': 1, 'nModified': 1, 'ok': 1.0, 'updatedExisting': True}, acknowledged=True)"
      ]
     },
     "execution_count": 25,
     "metadata": {},
     "output_type": "execute_result"
    }
   ],
   "source": [
    "# Mark a course as published\n",
    "db.courses.update_one(\n",
    "    {\"courseId\": \"course_999\"},\n",
    "    {\"$set\": {\"isPublished\": True, \"updatedAt\": datetime.utcnow()}}\n",
    ")"
   ]
  },
  {
   "cell_type": "code",
   "execution_count": 26,
   "id": "56d9e302-4f0b-4eb9-981f-bbca48bfec8f",
   "metadata": {},
   "outputs": [
    {
     "data": {
      "text/plain": [
       "UpdateResult({'n': 1, 'nModified': 1, 'ok': 1.0, 'updatedExisting': True}, acknowledged=True)"
      ]
     },
     "execution_count": 26,
     "metadata": {},
     "output_type": "execute_result"
    }
   ],
   "source": [
    "# Update assignment grades for a submission\n",
    "db.submissions.update_one(\n",
    "    {},  # Update the first available document\n",
    "    {\"$set\": {\"grade\": 88.5, \"feedback\": \"Well done!\"}}\n",
    ")"
   ]
  },
  {
   "cell_type": "code",
   "execution_count": 27,
   "id": "01d50773-9b94-4d12-ac28-6b76095bcdb3",
   "metadata": {},
   "outputs": [
    {
     "data": {
      "text/plain": [
       "UpdateResult({'n': 1, 'nModified': 1, 'ok': 1.0, 'updatedExisting': True}, acknowledged=True)"
      ]
     },
     "execution_count": 27,
     "metadata": {},
     "output_type": "execute_result"
    }
   ],
   "source": [
    "# Add tags to an existing course\n",
    "db.courses.update_one(\n",
    "    {\"courseId\": \"course_999\"},\n",
    "    {\"$addToSet\": {\"tags\": {\"$each\": [\"NoSQL\", \"performance\"]}}}\n",
    ")"
   ]
  },
  {
   "cell_type": "code",
   "execution_count": 29,
   "id": "85d30c69-1c3e-4e8d-b6bf-29478b4efc21",
   "metadata": {},
   "outputs": [
    {
     "data": {
      "text/plain": [
       "UpdateResult({'n': 1, 'nModified': 1, 'ok': 1.0, 'updatedExisting': True}, acknowledged=True)"
      ]
     },
     "execution_count": 29,
     "metadata": {},
     "output_type": "execute_result"
    }
   ],
   "source": [
    "#Task 3.4 – Delete Operations\n",
    "\n",
    "# Soft delete a user by marking them inactive\n",
    "db.users.update_one(\n",
    "    {\"userId\": \"user_999\"},\n",
    "    {\"$set\": {\"isActive\": False}}\n",
    ")"
   ]
  },
  {
   "cell_type": "code",
   "execution_count": 30,
   "id": "b3bf1b8c-8769-4c3e-a85f-a9207d38269c",
   "metadata": {},
   "outputs": [
    {
     "data": {
      "text/plain": [
       "DeleteResult({'n': 1, 'ok': 1.0}, acknowledged=True)"
      ]
     },
     "execution_count": 30,
     "metadata": {},
     "output_type": "execute_result"
    }
   ],
   "source": [
    "# Delete an enrollment\n",
    "db.enrollments.delete_one(\n",
    "    {\"enrollmentId\": \"enroll_999\"}\n",
    ")"
   ]
  },
  {
   "cell_type": "code",
   "execution_count": 31,
   "id": "807d4191-e5c5-4f95-b562-9b771e2acb08",
   "metadata": {},
   "outputs": [
    {
     "data": {
      "text/plain": [
       "DeleteResult({'n': 1, 'ok': 1.0}, acknowledged=True)"
      ]
     },
     "execution_count": 31,
     "metadata": {},
     "output_type": "execute_result"
    }
   ],
   "source": [
    "# Delete a lesson from a course\n",
    "db.lessons.delete_one(\n",
    "    {\"lessonId\": \"lesson_999\"}\n",
    ")"
   ]
  },
  {
   "cell_type": "code",
   "execution_count": 32,
   "id": "564f64b0-ab4e-4e76-8076-86bf125d50dd",
   "metadata": {},
   "outputs": [
    {
     "name": "stdout",
     "output_type": "stream",
     "text": [
      "Course 2 in Design 94.28\n",
      "Course 4 in Design 82.4\n",
      "Course 5 in Business 94.99\n",
      "Course 8 in Design 64.44\n",
      "Course 9 in Design 65.44\n",
      "Course 10 in Business 96.74\n",
      "Course 11 in Marketing 84.02\n",
      "Course 12 in Marketing 64.39\n",
      "Advanced MongoDB 120.0\n"
     ]
    }
   ],
   "source": [
    "#Part 4: Advanced Queries and Aggregation\n",
    "\n",
    "#Part 4.1 – Complex Queries\n",
    "\n",
    "# Find courses with price between $50 and $200\n",
    "price_range_courses = db.courses.find({\"price\": {\"$gte\": 50, \"$lte\": 200}})\n",
    "for course in price_range_courses:\n",
    "    print(course[\"title\"], course[\"price\"])"
   ]
  },
  {
   "cell_type": "code",
   "execution_count": 33,
   "id": "5700fd03-53c7-483f-a332-173dd43e6c63",
   "metadata": {},
   "outputs": [
    {
     "name": "stdout",
     "output_type": "stream",
     "text": [
      "Ifeanyi Eze 2025-06-14 11:39:42.905000\n",
      "Fatima Adewale 2025-06-14 11:39:42.905000\n",
      "David Adegoke 2025-06-14 11:39:42.905000\n",
      "Adebayo Eze 2025-06-14 11:39:42.905000\n",
      "Zainab Adegoke 2025-06-14 11:39:42.905000\n",
      "Chinaza Adegoke 2025-06-14 11:39:42.905000\n",
      "Emeka Ezeh 2025-06-14 11:39:42.905000\n",
      "Adebayo Ugochukwu 2025-06-14 11:39:42.905000\n",
      "Zainab Aliyu 2025-06-14 11:39:42.905000\n",
      "Emeka Aliyu 2025-06-14 11:39:42.905000\n",
      "Adebayo Adegoke 2025-06-14 11:39:42.905000\n",
      "David Adewale 2025-06-14 11:39:42.905000\n",
      "David Mohammed 2025-06-14 11:39:42.905000\n",
      "Zainab Mohammed 2025-06-14 11:39:42.905000\n",
      "Fatima Adegoke 2025-06-14 11:39:42.905000\n",
      "Grace Okoro 2025-06-14 11:39:42.905000\n",
      "David Ezeh 2025-06-14 11:39:42.905000\n",
      "Emeka Adegoke 2025-06-14 11:39:42.905000\n",
      "Grace Ugochukwu 2025-06-14 11:39:42.905000\n",
      "Ngozi Okoro 2025-06-14 11:39:42.905000\n",
      "Adebayo Nwosu 2025-06-14 11:39:42.905000\n",
      "Chinaza Aliyu 2025-06-14 11:39:42.905000\n",
      "Ifeanyi Okoro 2025-06-14 11:39:42.905000\n",
      "Emeka Adegoke 2025-06-14 11:39:42.905000\n",
      "Ngozi Eze 2025-06-14 11:39:42.905000\n",
      "Grace Nwosu 2025-06-14 11:39:42.905000\n",
      "David Nwosu 2025-06-14 11:39:42.905000\n",
      "Samuel Afolayan 2025-06-14 11:39:42.905000\n",
      "David Okoro 2025-06-14 11:39:42.905000\n",
      "New Student 2025-06-14 11:54:12.800000\n"
     ]
    }
   ],
   "source": [
    "# Get users who joined in the last 6 months\n",
    "six_months_ago = datetime.utcnow() - timedelta(days=180)\n",
    "recent_users = db.users.find({\"dateJoined\": {\"$gte\": six_months_ago}})\n",
    "for user in recent_users:\n",
    "    print(user[\"firstName\"], user[\"lastName\"], user[\"dateJoined\"])"
   ]
  },
  {
   "cell_type": "code",
   "execution_count": 34,
   "id": "58e3dff0-03de-49e2-a7c2-aef266f989cd",
   "metadata": {},
   "outputs": [
    {
     "name": "stdout",
     "output_type": "stream",
     "text": [
      "Ifeanyi Eze 2025-06-14 11:39:42.905000\n",
      "Fatima Adewale 2025-06-14 11:39:42.905000\n",
      "David Adegoke 2025-06-14 11:39:42.905000\n",
      "Adebayo Eze 2025-06-14 11:39:42.905000\n",
      "Zainab Adegoke 2025-06-14 11:39:42.905000\n",
      "Chinaza Adegoke 2025-06-14 11:39:42.905000\n",
      "Emeka Ezeh 2025-06-14 11:39:42.905000\n",
      "Adebayo Ugochukwu 2025-06-14 11:39:42.905000\n",
      "Zainab Aliyu 2025-06-14 11:39:42.905000\n",
      "Emeka Aliyu 2025-06-14 11:39:42.905000\n",
      "Adebayo Adegoke 2025-06-14 11:39:42.905000\n",
      "David Adewale 2025-06-14 11:39:42.905000\n",
      "David Mohammed 2025-06-14 11:39:42.905000\n",
      "Zainab Mohammed 2025-06-14 11:39:42.905000\n",
      "Fatima Adegoke 2025-06-14 11:39:42.905000\n",
      "Grace Okoro 2025-06-14 11:39:42.905000\n",
      "David Ezeh 2025-06-14 11:39:42.905000\n",
      "Emeka Adegoke 2025-06-14 11:39:42.905000\n",
      "Grace Ugochukwu 2025-06-14 11:39:42.905000\n",
      "Ngozi Okoro 2025-06-14 11:39:42.905000\n",
      "Adebayo Nwosu 2025-06-14 11:39:42.905000\n",
      "Chinaza Aliyu 2025-06-14 11:39:42.905000\n",
      "Ifeanyi Okoro 2025-06-14 11:39:42.905000\n",
      "Emeka Adegoke 2025-06-14 11:39:42.905000\n",
      "Ngozi Eze 2025-06-14 11:39:42.905000\n",
      "Grace Nwosu 2025-06-14 11:39:42.905000\n",
      "David Nwosu 2025-06-14 11:39:42.905000\n",
      "Samuel Afolayan 2025-06-14 11:39:42.905000\n",
      "David Okoro 2025-06-14 11:39:42.905000\n",
      "New Student 2025-06-14 11:54:12.800000\n"
     ]
    }
   ],
   "source": [
    "# Get users who joined in the last 6 months\n",
    "six_months_ago = datetime.utcnow() - timedelta(days=180)\n",
    "recent_users = db.users.find({\"dateJoined\": {\"$gte\": six_months_ago}})\n",
    "for user in recent_users:\n",
    "    print(user[\"firstName\"], user[\"lastName\"], user[\"dateJoined\"])"
   ]
  },
  {
   "cell_type": "code",
   "execution_count": 35,
   "id": "08f7a71c-7dbc-4f36-9034-9c7fb6d1a466",
   "metadata": {},
   "outputs": [
    {
     "name": "stdout",
     "output_type": "stream",
     "text": [
      "Assignment 1 for course_207 2025-06-20 11:48:31.791000\n",
      "Assignment 4 for course_201 2025-06-18 11:48:31.791000\n",
      "Assignment 9 for course_209 2025-06-21 11:48:31.791000\n"
     ]
    }
   ],
   "source": [
    "# Retrieve assignments with due dates in the next week\n",
    "next_week = datetime.utcnow() + timedelta(days=7)\n",
    "upcoming_assignments = db.assignments.find({\"dueDate\": {\"$lte\": next_week}})\n",
    "for assignment in upcoming_assignments:\n",
    "    print(assignment[\"title\"], assignment[\"dueDate\"])"
   ]
  },
  {
   "cell_type": "code",
   "execution_count": 36,
   "id": "72f21755-65af-4a27-a027-7ccb962674ed",
   "metadata": {},
   "outputs": [
    {
     "name": "stdout",
     "output_type": "stream",
     "text": [
      "Course: course_201 → Total Enrollments: 3\n",
      "Course: course_209 → Total Enrollments: 3\n",
      "Course: course_205 → Total Enrollments: 2\n",
      "Course: course_207 → Total Enrollments: 2\n",
      "Course: course_204 → Total Enrollments: 2\n",
      "Course: course_206 → Total Enrollments: 2\n",
      "Course: course_208 → Total Enrollments: 2\n",
      "Course: course_203 → Total Enrollments: 2\n",
      "Course: course_200 → Total Enrollments: 1\n",
      "Course: course_202 → Total Enrollments: 1\n"
     ]
    }
   ],
   "source": [
    "#Part 4.2 – Aggregation Pipeline\n",
    "\n",
    "#4.2.1 - Course Enrollment Statistics\n",
    "\n",
    "# Count total enrollments per course\n",
    "enrollment_stats = db.enrollments.aggregate([\n",
    "    {\"$group\": {\"_id\": \"$courseId\", \"totalEnrollments\": {\"$sum\": 1}}},\n",
    "    {\"$sort\": {\"totalEnrollments\": -1}}\n",
    "])\n",
    "for stat in enrollment_stats:\n",
    "    print(\"Course:\", stat[\"_id\"], \"→ Total Enrollments:\", stat[\"totalEnrollments\"])"
   ]
  },
  {
   "cell_type": "code",
   "execution_count": 37,
   "id": "16c9943b-d417-4d0b-84ff-63159e76ee42",
   "metadata": {},
   "outputs": [],
   "source": [
    "# Calculate average course rating (if 'rating' field exists in course)\n",
    "avg_rating_stats = db.courses.aggregate([\n",
    "    {\"$match\": {\"rating\": {\"$exists\": True}}},\n",
    "    {\"$group\": {\"_id\": \"$category\", \"avgRating\": {\"$avg\": \"$rating\"}}}\n",
    "])\n",
    "for stat in avg_rating_stats:\n",
    "    print(\"Category:\", stat[\"_id\"], \"→ Avg Rating:\", round(stat[\"avgRating\"], 2))"
   ]
  },
  {
   "cell_type": "code",
   "execution_count": 38,
   "id": "1cd4bea3-5d5b-4d0e-878f-ce8ebf48210b",
   "metadata": {},
   "outputs": [
    {
     "name": "stdout",
     "output_type": "stream",
     "text": [
      "Category: Business → Number of Courses: 4\n",
      "Category: Design → Number of Courses: 4\n",
      "Category: Marketing → Number of Courses: 2\n",
      "Category: Data Science → Number of Courses: 2\n",
      "Category: Programming → Number of Courses: 1\n"
     ]
    }
   ],
   "source": [
    "# Group courses by category\n",
    "category_group = db.courses.aggregate([\n",
    "    {\"$group\": {\"_id\": \"$category\", \"courseCount\": {\"$sum\": 1}}},\n",
    "    {\"$sort\": {\"courseCount\": -1}}\n",
    "])\n",
    "for group in category_group:\n",
    "    print(\"Category:\", group[\"_id\"], \"→ Number of Courses:\", group[\"courseCount\"])"
   ]
  },
  {
   "cell_type": "code",
   "execution_count": 39,
   "id": "3bc0d2ae-2e15-41c9-85ea-5a69ca8dfff7",
   "metadata": {},
   "outputs": [
    {
     "name": "stdout",
     "output_type": "stream",
     "text": [
      "Student: user_129 → Average Grade: 85.33\n",
      "Student: user_111 → Average Grade: 80.33\n",
      "Student: user_101 → Average Grade: 84.25\n",
      "Student: user_117 → Average Grade: 79.25\n",
      "Student: user_121 → Average Grade: 93.0\n",
      "Student: user_107 → Average Grade: 85.0\n",
      "Student: user_125 → Average Grade: 81.0\n"
     ]
    }
   ],
   "source": [
    "#4.2.2 Student Performance Analysis\n",
    "\n",
    "# Average grade per student\n",
    "avg_grade_per_student = db.submissions.aggregate([\n",
    "    {\"$group\": {\n",
    "        \"_id\": \"$studentId\",\n",
    "        \"avgGrade\": {\"$avg\": \"$grade\"}\n",
    "    }}\n",
    "])\n",
    "for result in avg_grade_per_student:\n",
    "    print(\"Student:\", result[\"_id\"], \"→ Average Grade:\", round(result[\"avgGrade\"], 2))"
   ]
  },
  {
   "cell_type": "code",
   "execution_count": 40,
   "id": "716c22d1-8be0-4698-a9ef-d51e38dc8ea2",
   "metadata": {},
   "outputs": [
    {
     "name": "stdout",
     "output_type": "stream",
     "text": [
      "Course: course_209 → Completion Rate: 66.67 %\n",
      "Course: course_203 → Completion Rate: 100.0 %\n",
      "Course: course_200 → Completion Rate: 100.0 %\n",
      "Course: course_202 → Completion Rate: 100.0 %\n",
      "Course: course_205 → Completion Rate: 50.0 %\n",
      "Course: course_208 → Completion Rate: 100.0 %\n",
      "Course: course_207 → Completion Rate: 50.0 %\n",
      "Course: course_204 → Completion Rate: 0.0 %\n",
      "Course: course_206 → Completion Rate: 50.0 %\n",
      "Course: course_201 → Completion Rate: 100.0 %\n"
     ]
    }
   ],
   "source": [
    "# Completion rate by course\n",
    "completion_rate = db.enrollments.aggregate([\n",
    "    {\"$group\": {\n",
    "        \"_id\": \"$courseId\",\n",
    "        \"total\": {\"$sum\": 1},\n",
    "        \"completed\": {\"$sum\": {\"$cond\": [\"$completed\", 1, 0]}}\n",
    "    }},\n",
    "    {\"$project\": {\n",
    "        \"completionRate\": {\"$multiply\": [{\"$divide\": [\"$completed\", \"$total\"]}, 100]}\n",
    "    }}\n",
    "])\n",
    "for result in completion_rate:\n",
    "    print(\"Course:\", result[\"_id\"], \"→ Completion Rate:\", round(result[\"completionRate\"], 2), \"%\")"
   ]
  },
  {
   "cell_type": "code",
   "execution_count": 41,
   "id": "48c7ff52-670f-49b6-ae06-8d6f7547d864",
   "metadata": {},
   "outputs": [
    {
     "name": "stdout",
     "output_type": "stream",
     "text": [
      "Student: user_121 → Avg Grade: 93.0\n",
      "Student: user_129 → Avg Grade: 85.33\n",
      "Student: user_107 → Avg Grade: 85.0\n",
      "Student: user_101 → Avg Grade: 84.25\n",
      "Student: user_125 → Avg Grade: 81.0\n"
     ]
    }
   ],
   "source": [
    "# Top-performing students (highest average grades)\n",
    "top_students = db.submissions.aggregate([\n",
    "    {\"$group\": {\"_id\": \"$studentId\", \"avgGrade\": {\"$avg\": \"$grade\"}}},\n",
    "    {\"$sort\": {\"avgGrade\": -1}},\n",
    "    {\"$limit\": 5}\n",
    "])\n",
    "for student in top_students:\n",
    "    print(\"Student:\", student[\"_id\"], \"→ Avg Grade:\", round(student[\"avgGrade\"], 2))"
   ]
  },
  {
   "cell_type": "code",
   "execution_count": 42,
   "id": "3bc3b079-3329-45b4-8a6f-e53b0b948d78",
   "metadata": {},
   "outputs": [
    {
     "name": "stdout",
     "output_type": "stream",
     "text": [
      "Instructor: user_114 → Total Students: 6\n",
      "Instructor: user_128 → Total Students: 3\n",
      "Instructor: user_118 → Total Students: 3\n",
      "Instructor: user_102 → Total Students: 2\n",
      "Instructor: user_126 → Total Students: 2\n",
      "Instructor: user_116 → Total Students: 2\n",
      "Instructor: user_122 → Total Students: 1\n",
      "Instructor: user_104 → Total Students: 1\n"
     ]
    }
   ],
   "source": [
    "#4.2.3 Instructor Analytics\n",
    "\n",
    "# Total students taught by each instructor\n",
    "instructor_students = db.enrollments.aggregate([\n",
    "    {\"$lookup\": {\n",
    "        \"from\": \"courses\",\n",
    "        \"localField\": \"courseId\",\n",
    "        \"foreignField\": \"courseId\",\n",
    "        \"as\": \"course\"\n",
    "    }},\n",
    "    {\"$unwind\": \"$course\"},\n",
    "    {\"$group\": {\n",
    "        \"_id\": \"$course.instructorId\",\n",
    "        \"totalStudents\": {\"$sum\": 1}\n",
    "    }},\n",
    "    {\"$sort\": {\"totalStudents\": -1}}\n",
    "])\n",
    "for instructor in instructor_students:\n",
    "    print(\"Instructor:\", instructor[\"_id\"], \"→ Total Students:\", instructor[\"totalStudents\"])"
   ]
  },
  {
   "cell_type": "code",
   "execution_count": 43,
   "id": "2b54ada0-3037-40d7-b2e5-f0399ba81f7c",
   "metadata": {},
   "outputs": [],
   "source": [
    "# Average course rating per instructor (if rating exists)\n",
    "avg_rating_per_instructor = db.courses.aggregate([\n",
    "    {\"$match\": {\"rating\": {\"$exists\": True}}},\n",
    "    {\"$group\": {\n",
    "        \"_id\": \"$instructorId\",\n",
    "        \"avgInstructorRating\": {\"$avg\": \"$rating\"}\n",
    "    }},\n",
    "    {\"$sort\": {\"avgInstructorRating\": -1}}\n",
    "])\n",
    "for result in avg_rating_per_instructor:\n",
    "    print(\"Instructor:\", result[\"_id\"], \"→ Avg Rating:\", round(result[\"avgInstructorRating\"], 2))"
   ]
  },
  {
   "cell_type": "code",
   "execution_count": 44,
   "id": "042087f2-53c3-4660-b07a-624a826f0629",
   "metadata": {},
   "outputs": [
    {
     "name": "stdout",
     "output_type": "stream",
     "text": [
      "Instructor: user_114 → Revenue: 400.56\n",
      "Instructor: user_118 → Revenue: 290.21999999999997\n",
      "Instructor: user_128 → Revenue: 282.84000000000003\n",
      "Instructor: user_116 → Revenue: 164.8\n",
      "Instructor: user_126 → Revenue: 130.88\n",
      "Instructor: user_102 → Revenue: 70.28\n",
      "Instructor: user_104 → Revenue: 36.39\n",
      "Instructor: user_122 → Revenue: 33.26\n",
      "Instructor: user_115 → Revenue: 0.0\n"
     ]
    }
   ],
   "source": [
    "# Revenue generated per instructor\n",
    "instructor_revenue = db.courses.aggregate([\n",
    "    {\"$lookup\": {\n",
    "        \"from\": \"enrollments\",\n",
    "        \"localField\": \"courseId\",\n",
    "        \"foreignField\": \"courseId\",\n",
    "        \"as\": \"enrollments\"\n",
    "    }},\n",
    "    {\"$project\": {\n",
    "        \"instructorId\": 1,\n",
    "        \"price\": 1,\n",
    "        \"enrollmentCount\": {\"$size\": \"$enrollments\"},\n",
    "        \"revenue\": {\"$multiply\": [\"$price\", {\"$size\": \"$enrollments\"}]}\n",
    "    }},\n",
    "    {\"$group\": {\n",
    "        \"_id\": \"$instructorId\",\n",
    "        \"totalRevenue\": {\"$sum\": \"$revenue\"}\n",
    "    }},\n",
    "    {\"$sort\": {\"totalRevenue\": -1}}\n",
    "])\n",
    "for result in instructor_revenue:\n",
    "    print(\"Instructor:\", result[\"_id\"], \"→ Revenue:\", result[\"totalRevenue\"])"
   ]
  },
  {
   "cell_type": "code",
   "execution_count": 45,
   "id": "d7349ba3-4ab2-4951-b3cd-b3e5227e3931",
   "metadata": {},
   "outputs": [
    {
     "name": "stdout",
     "output_type": "stream",
     "text": [
      "Month: 2025-06 → Enrollments: 20\n"
     ]
    }
   ],
   "source": [
    "#4.2.4 Advanced Analytics\n",
    "\n",
    "# Monthly enrollment trends\n",
    "monthly_trends = db.enrollments.aggregate([\n",
    "    {\"$addFields\": {\n",
    "        \"month\": {\"$dateToString\": {\"format\": \"%Y-%m\", \"date\": \"$enrolledAt\"}}\n",
    "    }},\n",
    "    {\"$group\": {\n",
    "        \"_id\": \"$month\",\n",
    "        \"count\": {\"$sum\": 1}\n",
    "    }},\n",
    "    {\"$sort\": {\"_id\": 1}}\n",
    "])\n",
    "for trend in monthly_trends:\n",
    "    print(\"Month:\", trend[\"_id\"], \"→ Enrollments:\", trend[\"count\"])"
   ]
  },
  {
   "cell_type": "code",
   "execution_count": 46,
   "id": "3e744d68-e711-40b2-b9b6-b544fab4dd80",
   "metadata": {},
   "outputs": [
    {
     "name": "stdout",
     "output_type": "stream",
     "text": [
      "Category: Design → Enrollments: 9\n",
      "Category: Business → Enrollments: 8\n",
      "Category: Programming → Enrollments: 2\n",
      "Category: Data Science → Enrollments: 1\n",
      "Category: Marketing → Enrollments: 0\n"
     ]
    }
   ],
   "source": [
    "# Most popular course categories\n",
    "popular_categories = db.courses.aggregate([\n",
    "    {\"$lookup\": {\n",
    "        \"from\": \"enrollments\",\n",
    "        \"localField\": \"courseId\",\n",
    "        \"foreignField\": \"courseId\",\n",
    "        \"as\": \"enrollments\"\n",
    "    }},\n",
    "    {\"$group\": {\n",
    "        \"_id\": \"$category\",\n",
    "        \"totalEnrollments\": {\"$sum\": {\"$size\": \"$enrollments\"}}\n",
    "    }},\n",
    "    {\"$sort\": {\"totalEnrollments\": -1}}\n",
    "])\n",
    "for cat in popular_categories:\n",
    "    print(\"Category:\", cat[\"_id\"], \"→ Enrollments:\", cat[\"totalEnrollments\"])"
   ]
  },
  {
   "cell_type": "code",
   "execution_count": 47,
   "id": "627546a9-4cb1-4270-adc7-88e1f36f5515",
   "metadata": {},
   "outputs": [
    {
     "name": "stdout",
     "output_type": "stream",
     "text": [
      "Average Submissions per Student: 2.89\n"
     ]
    }
   ],
   "source": [
    "# Student engagement metrics (average submissions per enrolled student)\n",
    "engagement_metrics = db.enrollments.aggregate([\n",
    "    {\"$lookup\": {\n",
    "        \"from\": \"submissions\",\n",
    "        \"localField\": \"studentId\",\n",
    "        \"foreignField\": \"studentId\",\n",
    "        \"as\": \"submissions\"\n",
    "    }},\n",
    "    {\"$group\": {\n",
    "        \"_id\": \"$studentId\",\n",
    "        \"submissionCount\": {\"$sum\": {\"$size\": \"$submissions\"}}\n",
    "    }},\n",
    "    {\"$group\": {\n",
    "        \"_id\": None,\n",
    "        \"avgSubmissions\": {\"$avg\": \"$submissionCount\"}\n",
    "    }}\n",
    "])\n",
    "for result in engagement_metrics:\n",
    "    print(\"Average Submissions per Student:\", round(result[\"avgSubmissions\"], 2))"
   ]
  },
  {
   "cell_type": "code",
   "execution_count": 48,
   "id": "7bddf00c-426b-4dd7-b70f-cdbdc19eead9",
   "metadata": {},
   "outputs": [
    {
     "name": "stdout",
     "output_type": "stream",
     "text": [
      "['_id_', 'email_1']\n",
      "['_id_', 'title_1_category_1']\n",
      "['_id_', 'dueDate_1']\n",
      "['_id_', 'studentId_1_courseId_1']\n"
     ]
    }
   ],
   "source": [
    "#Part 5 – Indexing and Performance\n",
    "\n",
    "# Create indexes\n",
    "# Index on email for faster lookup\n",
    "db.users.create_index(\"email\")\n",
    "\n",
    "# Index on course title and category for searching\n",
    "db.courses.create_index([(\"title\", 1), (\"category\", 1)])\n",
    "\n",
    "# Index on dueDate in assignments\n",
    "db.assignments.create_index(\"dueDate\")\n",
    "\n",
    "# Index on studentId and courseId in enrollments\n",
    "db.enrollments.create_index([(\"studentId\", 1), (\"courseId\", 1)])\n",
    "\n",
    "# Confirm created indexes\n",
    "print(list(db.users.index_information().keys()))\n",
    "print(list(db.courses.index_information().keys()))\n",
    "print(list(db.assignments.index_information().keys()))\n",
    "print(list(db.enrollments.index_information().keys()))"
   ]
  },
  {
   "cell_type": "code",
   "execution_count": 51,
   "id": "7ab8444b-42be-4321-aa77-a0404b007243",
   "metadata": {},
   "outputs": [
    {
     "name": "stdout",
     "output_type": "stream",
     "text": [
      "Email Lookup Time: 0.00381 seconds\n"
     ]
    }
   ],
   "source": [
    "#5.2 Query Optimization and Performance Timing\n",
    "\n",
    "# Measure query time before optimization\n",
    "start_time = time.time()\n",
    "list(db.users.find({\"email\": \"grace.okoro@example.com\"}))\n",
    "end_time = time.time()\n",
    "print(\"Email Lookup Time:\", round(end_time - start_time, 6), \"seconds\")"
   ]
  },
  {
   "cell_type": "code",
   "execution_count": 50,
   "id": "a8535d9a-748f-45bc-ba8e-8816b8a38a08",
   "metadata": {},
   "outputs": [],
   "source": [
    "from pymongo import MongoClient\n",
    "from datetime import datetime, timedelta\n",
    "import time"
   ]
  },
  {
   "cell_type": "code",
   "execution_count": 52,
   "id": "78ddba74-c908-4309-879b-3b844c571796",
   "metadata": {},
   "outputs": [
    {
     "name": "stdout",
     "output_type": "stream",
     "text": [
      "Course Search Time: 0.001994 seconds\n"
     ]
    }
   ],
   "source": [
    "# Measure indexed course search\n",
    "start_time = time.time()\n",
    "list(db.courses.find({\"title\": {\"$regex\": \"python\", \"$options\": \"i\"}}))\n",
    "end_time = time.time()\n",
    "print(\"Course Search Time:\", round(end_time - start_time, 6), \"seconds\")"
   ]
  },
  {
   "cell_type": "code",
   "execution_count": 53,
   "id": "d6a81ccb-0b39-4c0a-bd67-52b65c16e9f4",
   "metadata": {},
   "outputs": [
    {
     "name": "stdout",
     "output_type": "stream",
     "text": [
      "Due Date Query Time: 0.002257 seconds\n"
     ]
    }
   ],
   "source": [
    "# Measure dueDate query with index\n",
    "start_time = time.time()\n",
    "list(db.assignments.find({\"dueDate\": {\"$exists\": True}}))\n",
    "end_time = time.time()\n",
    "print(\"Due Date Query Time:\", round(end_time - start_time, 6), \"seconds\")"
   ]
  },
  {
   "cell_type": "code",
   "execution_count": 54,
   "id": "b4b6e5f4-0f10-4438-9e68-085454e79478",
   "metadata": {},
   "outputs": [
    {
     "name": "stdout",
     "output_type": "stream",
     "text": [
      "Users collection created with schema validation.\n"
     ]
    }
   ],
   "source": [
    "#Part 6: Data Validation and Error Handling\n",
    "\n",
    "#Schema Validation\n",
    "# Create users collection with schema validation\n",
    "user_schema = {\n",
    "    \"$jsonSchema\": {\n",
    "        \"bsonType\": \"object\",\n",
    "        \"required\": [\"userId\", \"email\", \"firstName\", \"lastName\", \"role\", \"dateJoined\", \"isActive\"],\n",
    "        \"properties\": {\n",
    "            \"userId\": {\"bsonType\": \"string\"},\n",
    "            \"email\": {\n",
    "                \"bsonType\": \"string\",\n",
    "                \"pattern\": \"^.+@.+\\\\..+$\",\n",
    "                \"description\": \"Must be a valid email\"\n",
    "            },\n",
    "            \"firstName\": {\"bsonType\": \"string\"},\n",
    "            \"lastName\": {\"bsonType\": \"string\"},\n",
    "            \"role\": {\n",
    "                \"enum\": [\"student\", \"instructor\"],\n",
    "                \"description\": \"Role must be either student or instructor\"\n",
    "            },\n",
    "            \"dateJoined\": {\"bsonType\": \"date\"},\n",
    "            \"isActive\": {\"bsonType\": \"bool\"},\n",
    "            \"profile\": {\n",
    "                \"bsonType\": \"object\",\n",
    "                \"properties\": {\n",
    "                    \"bio\": {\"bsonType\": \"string\"},\n",
    "                    \"avatar\": {\"bsonType\": \"string\"},\n",
    "                    \"skills\": {\"bsonType\": \"array\", \"items\": {\"bsonType\": \"string\"}}\n",
    "                }\n",
    "            }\n",
    "        }\n",
    "    }\n",
    "}\n",
    "\n",
    "# Drop and recreate collection with validation\n",
    "if \"users\" in db.list_collection_names():\n",
    "    db.users.drop()\n",
    "\n",
    "db.create_collection(\"users\", validator=user_schema)\n",
    "print(\"Users collection created with schema validation.\")"
   ]
  },
  {
   "cell_type": "code",
   "execution_count": 55,
   "id": "4e85f366-e2f6-49ac-9ec4-33ef6ed5017b",
   "metadata": {},
   "outputs": [],
   "source": [
    "#6.2 Error Handling\n",
    "\n",
    "# Example 1: Handle duplicate user insertion\n",
    "try:\n",
    "    db.users.insert_one({\n",
    "        \"userId\": \"U001\",\n",
    "        \"email\": \"grace.okoro@example.com\",  # Assuming already inserted\n",
    "        \"firstName\": \"Grace\",\n",
    "        \"lastName\": \"Okoro\",\n",
    "        \"role\": \"student\",\n",
    "        \"dateJoined\": datetime.utcnow(),\n",
    "        \"isActive\": True\n",
    "    })\n",
    "except Exception as e:\n",
    "    print(\"Duplicate insertion error:\", e)"
   ]
  },
  {
   "cell_type": "code",
   "execution_count": 56,
   "id": "090465fb-cda6-4624-b24c-c9c411acd3b3",
   "metadata": {},
   "outputs": [
    {
     "name": "stdout",
     "output_type": "stream",
     "text": [
      "Validation failed due to missing fields: Document failed validation, full error: {'index': 0, 'code': 121, 'errmsg': 'Document failed validation', 'errInfo': {'failingDocumentId': ObjectId('684d6e1d30a6e8a80723be07'), 'details': {'operatorName': '$jsonSchema', 'schemaRulesNotSatisfied': [{'operatorName': 'required', 'specifiedAs': {'required': ['userId', 'email', 'firstName', 'lastName', 'role', 'dateJoined', 'isActive']}, 'missingProperties': ['dateJoined', 'email', 'firstName', 'isActive', 'lastName', 'role']}]}}}\n"
     ]
    }
   ],
   "source": [
    "# Example 2: Handle missing required fields\n",
    "try:\n",
    "    db.users.insert_one({\n",
    "        \"userId\": \"U999\"\n",
    "    })\n",
    "except Exception as e:\n",
    "    print(\"Validation failed due to missing fields:\", e)"
   ]
  },
  {
   "cell_type": "code",
   "execution_count": 57,
   "id": "fe4a1291-e8ca-4966-a2de-8cb89a35b60b",
   "metadata": {},
   "outputs": [],
   "source": [
    "# Example 3: Handle invalid data types\n",
    "try:\n",
    "    db.courses.insert_one({\n",
    "        \"courseId\": \"C999\",\n",
    "        \"title\": \"Test Course\",\n",
    "        \"instructorId\": \"I001\",\n",
    "        \"price\": \"Free\"  # Invalid: should be a number\n",
    "    })\n",
    "except Exception as e:\n",
    "    print(\"Invalid data type error:\", e)"
   ]
  },
  {
   "cell_type": "code",
   "execution_count": 58,
   "id": "2fd8a327-c63d-42ae-8af4-b11b02f535aa",
   "metadata": {},
   "outputs": [
    {
     "data": {
      "text/plain": [
       "Collection(Database(MongoClient(host=['localhost:27017'], document_class=dict, tz_aware=False, connect=True), 'EduHub_Db_Project'), 'courses')"
      ]
     },
     "execution_count": 58,
     "metadata": {},
     "output_type": "execute_result"
    }
   ],
   "source": [
    "course_schema = {\n",
    "    \"$jsonSchema\": {\n",
    "        \"bsonType\": \"object\",\n",
    "        \"required\": [\"courseId\", \"title\", \"instructorId\", \"price\"],\n",
    "        \"properties\": {\n",
    "            \"courseId\": {\"bsonType\": \"string\"},\n",
    "            \"title\": {\"bsonType\": \"string\"},\n",
    "            \"instructorId\": {\"bsonType\": \"string\"},\n",
    "            \"price\": {\"bsonType\": \"double\"}  # or \"number\"\n",
    "        }\n",
    "    }\n",
    "}\n",
    "\n",
    "if \"courses\" in db.list_collection_names():\n",
    "    db.courses.drop()\n",
    "\n",
    "db.create_collection(\"courses\", validator=course_schema)\n"
   ]
  },
  {
   "cell_type": "code",
   "execution_count": 59,
   "id": "e11f6a43-ff7a-445a-bae1-0aca3c3dcfaa",
   "metadata": {},
   "outputs": [
    {
     "name": "stdout",
     "output_type": "stream",
     "text": [
      "Invalid data type error: Document failed validation, full error: {'index': 0, 'code': 121, 'errmsg': 'Document failed validation', 'errInfo': {'failingDocumentId': ObjectId('684d6f8c30a6e8a80723be09'), 'details': {'operatorName': '$jsonSchema', 'schemaRulesNotSatisfied': [{'operatorName': 'properties', 'propertiesNotSatisfied': [{'propertyName': 'price', 'details': [{'operatorName': 'bsonType', 'specifiedAs': {'bsonType': 'double'}, 'reason': 'type did not match', 'consideredValue': 'Free', 'consideredType': 'string'}]}]}]}}}\n"
     ]
    }
   ],
   "source": [
    "# Example 3: Handle invalid data types\n",
    "try:\n",
    "    db.courses.insert_one({\n",
    "        \"courseId\": \"C999\",\n",
    "        \"title\": \"Test Course\",\n",
    "        \"instructorId\": \"I001\",\n",
    "        \"price\": \"Free\"  # Invalid: should be a number\n",
    "    })\n",
    "except Exception as e:\n",
    "    print(\"Invalid data type error:\", e)"
   ]
  },
  {
   "cell_type": "code",
   "execution_count": null,
   "id": "5df5ad98-e2dc-4bd1-a6d3-0dfef0801c57",
   "metadata": {},
   "outputs": [],
   "source": []
  }
 ],
 "metadata": {
  "kernelspec": {
   "display_name": "Python 3 (ipykernel)",
   "language": "python",
   "name": "python3"
  },
  "language_info": {
   "codemirror_mode": {
    "name": "ipython",
    "version": 3
   },
   "file_extension": ".py",
   "mimetype": "text/x-python",
   "name": "python",
   "nbconvert_exporter": "python",
   "pygments_lexer": "ipython3",
   "version": "3.11.4"
  }
 },
 "nbformat": 4,
 "nbformat_minor": 5
}
